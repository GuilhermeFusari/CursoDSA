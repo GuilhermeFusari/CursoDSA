{
 "cells": [
  {
   "cell_type": "code",
   "execution_count": 2,
   "id": "3a2f4b55",
   "metadata": {},
   "outputs": [],
   "source": [
    "# Importar a biblioteca random para escolher uma palavra aleatória\n",
    "# Definir uma lista de palavras\n",
    "# Escolher uma palavra aleatória da lista\n",
    "# Criar uma lista vazia para armazenar as letras adivinhadas\n",
    "# Definir o número máximo de tentativas\n",
    "# Criar um loop para o jogo\n",
    "    # Mostrar a palavra secreta com as letras adivinhadas\n",
    "    # Pedir ao jogador para adivinhar uma letra\n",
    "    # Verificar se a letra está na palavra secreta\n",
    "    # Verificar se o jogador acertou a palavra secreta\n",
    "# Se o jogador não acertou a palavra secreta, mostrar a palavra completa"
   ]
  },
  {
   "cell_type": "code",
   "execution_count": null,
   "id": "f18c1a7f",
   "metadata": {},
   "outputs": [],
   "source": []
  }
 ],
 "metadata": {
  "kernelspec": {
   "display_name": "Python 3 (ipykernel)",
   "language": "python",
   "name": "python3"
  },
  "language_info": {
   "codemirror_mode": {
    "name": "ipython",
    "version": 3
   },
   "file_extension": ".py",
   "mimetype": "text/x-python",
   "name": "python",
   "nbconvert_exporter": "python",
   "pygments_lexer": "ipython3",
   "version": "3.9.13"
  }
 },
 "nbformat": 4,
 "nbformat_minor": 5
}
