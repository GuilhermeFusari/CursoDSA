{
 "cells": [
  {
   "cell_type": "markdown",
   "id": "2d43981a",
   "metadata": {},
   "source": [
    "PRATICANDO PSEUDOCODIGOS E CODIGOS PYTHON"
   ]
  },
  {
   "cell_type": "markdown",
   "id": "19278779",
   "metadata": {},
   "source": [
    "  PSEUDOCÓDIGO 1\n",
    "  CRIE UM PROGRAMA QUE EXIBE A ÁREA DE UM PARALELOGRAMO\n",
    ". EXIBA BEM VINDO AO USUARIO\n",
    ". PEÇA AO USUÁRIO O COMPRIMENTO DA BASE DO PARALELOGRAMO\n",
    ". SALVE O COMPRIMENTO NA VARIAVEL \"BASE\"\n",
    ". PEÇA AO USUÁRIO O COMPRIMENTO DA ALTURA DO PARALELOGRAMO\n",
    ". SALVE O COMPRIMENTO NA VARIAVEL \"ALTURA\"\n",
    ". CRIA OUTRA VARIAVEL \"AREA\" QUE RECEBE \"BASE\" * \"ALTURA\"\n",
    ". EXIBA A VARIAVEL ÁREA"
   ]
  },
  {
   "cell_type": "code",
   "execution_count": 1,
   "id": "8e78bdf2",
   "metadata": {},
   "outputs": [
    {
     "name": "stdout",
     "output_type": "stream",
     "text": [
      "Bem Vindo!\n"
     ]
    }
   ],
   "source": [
    "print(\"Bem Vindo!\")"
   ]
  },
  {
   "cell_type": "code",
   "execution_count": 6,
   "id": "794deafc",
   "metadata": {},
   "outputs": [
    {
     "name": "stdout",
     "output_type": "stream",
     "text": [
      "Digite o comprimento da base do paralelogramo em metros: 5.3\n"
     ]
    }
   ],
   "source": [
    "Base = input(\"Digite o comprimento da base do paralelogramo em metros: \")"
   ]
  },
  {
   "cell_type": "code",
   "execution_count": 7,
   "id": "08ed8331",
   "metadata": {},
   "outputs": [
    {
     "name": "stdout",
     "output_type": "stream",
     "text": [
      "Digite a altura do paralelogramo em metros: 6.2\n"
     ]
    }
   ],
   "source": [
    "Altura = input(\"Digite a altura do paralelogramo em metros: \")"
   ]
  },
  {
   "cell_type": "code",
   "execution_count": 8,
   "id": "78469860",
   "metadata": {},
   "outputs": [],
   "source": [
    "Area = float(Altura) * float(Base)"
   ]
  },
  {
   "cell_type": "code",
   "execution_count": 9,
   "id": "b49ceac1",
   "metadata": {},
   "outputs": [
    {
     "name": "stdout",
     "output_type": "stream",
     "text": [
      "A área do paralelogramo é de 32.86 metros quadrados.\n"
     ]
    }
   ],
   "source": [
    "print(\"A área do paralelogramo é de\", Area, \"metros quadrados.\")"
   ]
  },
  {
   "cell_type": "markdown",
   "id": "de3d397d",
   "metadata": {},
   "source": [
    " PSEUDOCÓDIGO 2\n",
    " CRIE UMA CALCULADORA SIMPLES COM AS 4 OPERAÇÕES BASICAS\n",
    " . EXIBA BEM VINDO AO USUARIO\n",
    " . CRIE A VARIAVEL \"N3\" QUE RECEBERÁ O VALOR DA OPERAÇÃO\n",
    " . PEÇA AO USUARIO PARA DIGITAR UM NUMERO DE 1 A 4 E ARMAZENE NA VARIAVEL \"OPERACAO\"\n",
    "     1 - ADIÇÃO  2 - SUBTRAÇÃO  3 - DIVISÃO  4 - MULTIPLICAÇÃO\n",
    " . SE O VALOR DE \"OPERACAO\" FOR = 1\n",
    "     PEÇA AO USUARIO O VALOR DO PRIMEIRO NUMERO E ARMAZENE NA VARIAVEL \"N1\"\n",
    "     PEÇA AO USUARIO O VALOR DO SEGUNDO NUMERO E ARMAZENE NA VARIAVEL \"N2\"\n",
    "     ENTAO N3 = N1 + N3\n",
    "     EXIBA N3\n",
    " . SE O VALOR DE \"OPERACAO\" FOR = 2\n",
    "     PEÇA AO USUARIO O VALOR DO PRIMEIRO NUMERO (MINUENDO) E ARMAZENE NA VARIAVEL \"N1\"\n",
    "     PEÇA AO USUARIO O VALOR DO SEGUNDO NUMERO (SUBTRAENDO) E ARMAZENE NA VARIAVEL \"N2\"\n",
    "     ENTAO N3 = N1 - N2\n",
    "     EXIBA N3\n",
    " . SE O VALOR DE \"OPERACAO\" FOR = 3\n",
    "     PEÇA AO USUARIO O VALOR DO PRIMEIRO NUMERO (DIVISOR)E ARMAZENE NA VARIAVEL \"N1\"\n",
    "     PEÇA AO USUARIO O VALOR DO SEGUNDO NUMERO (DIVIDENDO)E ARMAZENE NA VARIAVEL \"N2\"\n",
    "     ENTAO N3 = N1 / N2\n",
    "     EXIBA N3\n",
    " . SE O VALOR DE \"OPERACAO\" FOR = 4\n",
    "     PEÇA AO USUARIO O VALOR DO PRIMEIRO NUMERO E ARMAZENE NA VARIAVEL \"N1\"\n",
    "     PEÇA AO USUARIO O VALOR DO SEGUNDO NUMERO E ARMAZENE NA VARIAVEL \"N2\"\n",
    "     ENTAO N3 = N1 * N3\n",
    "     EXIBA N3"
   ]
  },
  {
   "cell_type": "code",
   "execution_count": 31,
   "id": "09cfd361",
   "metadata": {},
   "outputs": [
    {
     "name": "stdout",
     "output_type": "stream",
     "text": [
      "Bem Vindo à calculadora!\n",
      "Digite \n",
      "'1' se deseja fazer uma soma \n",
      "'2' se deseja fazer uma subtração \n",
      "'3' se deseja fazer uma divisão \n",
      "'4' se deseja fazer uma multiplicação: 4\n",
      "Digite o primeiro numero: 2\n",
      "Digite o segundo numero: 6\n",
      "O resultado da multiplicação é: 12.0\n"
     ]
    }
   ],
   "source": [
    "print(\"Bem Vindo à calculadora!\")\n",
    "N3 = 0\n",
    "operacao = int(input(\"Digite \\n\" + \"'1' se deseja fazer uma soma \\n\" + \"'2' se deseja fazer uma subtração \\n\" + \"'3' se deseja fazer uma divisão \\n\"+\"'4' se deseja fazer uma multiplicação: \"))\n",
    "if operacao == 1:\n",
    "        N1 = input (\"Digite o primeiro numero: \")\n",
    "        N2 = input (\"Digite o segundo numero: \")\n",
    "        N3 = float(N1) + float(N2)\n",
    "        print(\"O resultado da soma é: \"+str(N3))\n",
    "elif operacao == 2:\n",
    "        N1 = input (\"Digite o minuendo: \")\n",
    "        N2 = input (\"Digite o subtraendo: \")\n",
    "        N3 = float(N1) - float(N2)\n",
    "        print(\"O resultado da subtração é: \"+str(N3))\n",
    "elif operacao == 3:\n",
    "        N1 = input (\"Digite o divisor: \")\n",
    "        N2 = input (\"Digite o dividendo: \")\n",
    "        N3 = float(N1) / float(N2)\n",
    "        print(\"O resultado da divisão é: \"+str(N3))\n",
    "elif operacao == 4:\n",
    "        N1 = input (\"Digite o primeiro numero: \")\n",
    "        N2 = input (\"Digite o segundo numero: \")\n",
    "        N3 = float(N1) * float(N2)\n",
    "        print(\"O resultado da multiplicação é: \"+str(N3))\n",
    "else:\n",
    "    print(\"Digite um numero entre de 1 a 4\")"
   ]
  },
  {
   "cell_type": "markdown",
   "id": "5c5f93cc",
   "metadata": {},
   "source": [
    "PSEUDOCODIGO 3\n",
    "ALGORITIMO BUBBLE SORT\n",
    "inicio\n",
    "\n",
    "Para cada elemento i em um array de tamanho n\n",
    "    para cada elemento j em um array de tamanho n-1\n",
    "        se i for maior que j\n",
    "            troque de posicao os elementos i e j\n",
    "Exiba o array ordenado        \n",
    "            \n",
    "fim"
   ]
  },
  {
   "cell_type": "code",
   "execution_count": 40,
   "id": "c76848ff",
   "metadata": {},
   "outputs": [],
   "source": [
    "lista=[2,5,7,1,3,72,65,71,44,16,54,87,53,12,14,16,4]"
   ]
  },
  {
   "cell_type": "code",
   "execution_count": 41,
   "id": "b6ddbff1",
   "metadata": {},
   "outputs": [],
   "source": [
    "def bubble_sort(arr):\n",
    "    n = len(arr)\n",
    "    #para cada i no array de tamanho n\n",
    "    for i in range(n):\n",
    "        #para cada j no array de tamanho n-1\n",
    "        for j in range(0, n-i-1):\n",
    "            #se i for maior do que j\n",
    "            if arr[j] > arr[j+1]:\n",
    "                #troque os elementos de lugar\n",
    "                arr[j], arr[j+1] = arr[j+1], arr[j]\n",
    "    return arr"
   ]
  },
  {
   "cell_type": "code",
   "execution_count": 42,
   "id": "c6247d74",
   "metadata": {},
   "outputs": [
    {
     "name": "stdout",
     "output_type": "stream",
     "text": [
      "[1, 2, 3, 4, 5, 7, 12, 14, 16, 16, 44, 53, 54, 65, 71, 72, 87]\n"
     ]
    }
   ],
   "source": [
    "print(bubble_sort(lista))"
   ]
  },
  {
   "cell_type": "code",
   "execution_count": null,
   "id": "9fc4cfaa",
   "metadata": {},
   "outputs": [],
   "source": []
  }
 ],
 "metadata": {
  "kernelspec": {
   "display_name": "Python 3 (ipykernel)",
   "language": "python",
   "name": "python3"
  },
  "language_info": {
   "codemirror_mode": {
    "name": "ipython",
    "version": 3
   },
   "file_extension": ".py",
   "mimetype": "text/x-python",
   "name": "python",
   "nbconvert_exporter": "python",
   "pygments_lexer": "ipython3",
   "version": "3.9.13"
  }
 },
 "nbformat": 4,
 "nbformat_minor": 5
}
